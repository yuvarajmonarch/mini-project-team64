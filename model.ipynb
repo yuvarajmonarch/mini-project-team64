{
 "cells": [
  {
   "cell_type": "code",
   "execution_count": 1,
   "metadata": {},
   "outputs": [],
   "source": [
    "## Model Type 2"
   ]
  },
  {
   "cell_type": "code",
   "execution_count": 54,
   "metadata": {},
   "outputs": [],
   "source": [
    "import pandas as pd\n",
    "import numpy as np\n",
    "from sklearn.model_selection import train_test_split, RandomizedSearchCV, StratifiedKFold\n",
    "from sklearn.preprocessing import StandardScaler, LabelEncoder, PolynomialFeatures\n",
    "from sklearn.ensemble import RandomForestClassifier, GradientBoostingClassifier\n",
    "from sklearn.metrics import classification_report, accuracy_score\n",
    "from sklearn.impute import SimpleImputer\n",
    "from xgboost import XGBClassifier\n",
    "from scipy.stats import randint"
   ]
  },
  {
   "cell_type": "code",
   "execution_count": 55,
   "metadata": {},
   "outputs": [],
   "source": [
    "# Load the dataset\n",
    "df = pd.read_csv('data.csv')"
   ]
  },
  {
   "cell_type": "code",
   "execution_count": 56,
   "metadata": {},
   "outputs": [],
   "source": [
    "# Additional feature engineering with polynomial features\n",
    "df['Temperature'] = np.random.uniform(36.0, 40.0, size=len(df))  # Body temperature in °C\n",
    "df['Oxygen Level'] = np.random.uniform(90, 100, size=len(df))  # Oxygen saturation in %\n",
    "df['Stress Level'] = np.random.randint(1, 10, size=len(df))  # Stress scale 1-10\n",
    "df['Hydration Status'] = np.random.choice(['Low', 'Normal', 'High'], size=len(df))\n",
    "df['Activity Level'] = np.random.choice(['Rest', 'Moderate', 'High'], size=len(df))"
   ]
  },
  {
   "cell_type": "code",
   "execution_count": 57,
   "metadata": {},
   "outputs": [],
   "source": [
    "# Label Encoding for categorical columns\n",
    "label_cols = ['Gender', 'Occupation', 'BMI Category', 'Sleep Disorder', 'Hydration Status', 'Activity Level']\n",
    "label_encoders = {}\n",
    "for col in label_cols:\n",
    "    le = LabelEncoder()\n",
    "    df[col] = le.fit_transform(df[col])\n",
    "    label_encoders[col] = le"
   ]
  },
  {
   "cell_type": "code",
   "execution_count": 58,
   "metadata": {},
   "outputs": [],
   "source": [
    "# Split Blood Pressure into 'Systolic' and 'Diastolic'\n",
    "df[['Systolic', 'Diastolic']] = df['Blood Pressure'].str.split('/', expand=True)\n",
    "df['Systolic'] = pd.to_numeric(df['Systolic'], errors='coerce')\n",
    "df['Diastolic'] = pd.to_numeric(df['Diastolic'], errors='coerce')\n",
    "df.drop('Blood Pressure', axis=1, inplace=True)"
   ]
  },
  {
   "cell_type": "code",
   "execution_count": 59,
   "metadata": {},
   "outputs": [],
   "source": [
    "# Handling missing values with SimpleImputer\n",
    "imputer = SimpleImputer(strategy=\"median\")\n",
    "df.iloc[:, :] = imputer.fit_transform(df)"
   ]
  },
  {
   "cell_type": "code",
   "execution_count": 60,
   "metadata": {},
   "outputs": [],
   "source": [
    "# Define target variable and feature set\n",
    "X = df.drop('Heart Rate', axis=1)  # Assuming Heart Rate as the target for classification\n",
    "y = df['Heart Rate']"
   ]
  },
  {
   "cell_type": "code",
   "execution_count": 61,
   "metadata": {},
   "outputs": [],
   "source": [
    "# Polynomial features to capture interactions\n",
    "poly = PolynomialFeatures(degree=2, interaction_only=True, include_bias=False)\n",
    "X_poly = poly.fit_transform(X)"
   ]
  },
  {
   "cell_type": "code",
   "execution_count": 62,
   "metadata": {},
   "outputs": [],
   "source": [
    "# Split into train and test sets\n",
    "X_train, X_test, y_train, y_test = train_test_split(X_poly, y, test_size=0.2, random_state=42)"
   ]
  },
  {
   "cell_type": "code",
   "execution_count": 63,
   "metadata": {},
   "outputs": [],
   "source": [
    "# Feature scaling\n",
    "scaler = StandardScaler()\n",
    "X_train = scaler.fit_transform(X_train)\n",
    "X_test = scaler.transform(X_test)"
   ]
  },
  {
   "cell_type": "code",
   "execution_count": 64,
   "metadata": {},
   "outputs": [],
   "source": [
    "param_dist = {\n",
    "    'n_estimators': randint(100, 300),\n",
    "    'max_depth': randint(5, 15),\n",
    "    'min_samples_split': randint(2, 10),\n",
    "    'min_samples_leaf': randint(1, 5),\n",
    "    'max_features': ['auto', 'sqrt', 'log2']\n",
    "}"
   ]
  },
  {
   "cell_type": "code",
   "execution_count": 65,
   "metadata": {},
   "outputs": [
    {
     "name": "stdout",
     "output_type": "stream",
     "text": [
      "Parameter distribution: {'n_estimators': <scipy.stats._distn_infrastructure.rv_discrete_frozen object at 0x00000156C3BB97C0>, 'max_depth': <scipy.stats._distn_infrastructure.rv_discrete_frozen object at 0x00000156C3BB90A0>, 'min_samples_split': <scipy.stats._distn_infrastructure.rv_discrete_frozen object at 0x00000156C3BBB470>, 'min_samples_leaf': <scipy.stats._distn_infrastructure.rv_discrete_frozen object at 0x00000156C3BBAC90>, 'max_features': ['auto', 'sqrt', 'log2']}\n"
     ]
    }
   ],
   "source": [
    "# Confirm that 'auto' is not in param_dist\n",
    "print(\"Parameter distribution:\", param_dist)"
   ]
  },
  {
   "cell_type": "code",
   "execution_count": 66,
   "metadata": {},
   "outputs": [],
   "source": [
    "# Use StratifiedKFold for better handling of class imbalances in cross-validation\n",
    "skf = StratifiedKFold(n_splits=5, shuffle=True, random_state=42)\n",
    "rfc = RandomForestClassifier(class_weight='balanced', random_state=42)"
   ]
  },
  {
   "cell_type": "code",
   "execution_count": 67,
   "metadata": {},
   "outputs": [],
   "source": [
    "# RandomizedSearchCV with the updated parameter grid\n",
    "random_search = RandomizedSearchCV(\n",
    "    rfc,\n",
    "    param_distributions=param_dist,\n",
    "    n_iter=20,\n",
    "    cv=skf,\n",
    "    random_state=42,\n",
    "    n_jobs=-1,\n",
    "    error_score='raise'  # Raise error to debug fitting issues\n",
    ")"
   ]
  },
  {
   "cell_type": "code",
   "execution_count": 68,
   "metadata": {},
   "outputs": [
    {
     "name": "stdout",
     "output_type": "stream",
     "text": [
      "Updated Random Forest Accuracy:  0.9466666666666667\n",
      "              precision    recall  f1-score   support\n",
      "\n",
      "          65       0.85      1.00      0.92        11\n",
      "          68       1.00      1.00      1.00        19\n",
      "          70       1.00      1.00      1.00        14\n",
      "          72       1.00      1.00      1.00        20\n",
      "          75       1.00      1.00      1.00         5\n",
      "          77       1.00      0.00      0.00         1\n",
      "          78       1.00      0.00      0.00         1\n",
      "          80       0.00      1.00      0.00         0\n",
      "          82       0.00      1.00      0.00         0\n",
      "          84       1.00      0.00      0.00         2\n",
      "          85       1.00      1.00      1.00         2\n",
      "\n",
      "    accuracy                           0.95        75\n",
      "   macro avg       0.80      0.73      0.54        75\n",
      "weighted avg       0.98      0.95      0.93        75\n",
      "\n"
     ]
    }
   ],
   "source": [
    "# Evaluation metrics\n",
    "print(\"Updated Random Forest Accuracy: \", accuracy_score(y_test, y_pred_rfc))\n",
    "print(classification_report(y_test, y_pred_rfc, zero_division=1))"
   ]
  },
  {
   "cell_type": "code",
   "execution_count": 69,
   "metadata": {},
   "outputs": [],
   "source": [
    "# Health Recommendation Function considering more features\n",
    "def health_recommendation(heart_rate, temperature, oxygen_level, stress_level, hydration_status, activity_level):\n",
    "    if heart_rate > 100 or temperature > 38.5 or oxygen_level < 92:\n",
    "        return \"Alert: Soldier needs immediate medical attention!\"\n",
    "    elif 60 <= heart_rate <= 100 and 36 <= temperature <= 38 and oxygen_level >= 95:\n",
    "        if stress_level > 7 or hydration_status == 'Low':\n",
    "            return \"Recommendation: Reduce stress and increase hydration.\"\n",
    "        elif activity_level == 'High':\n",
    "            return \"Recommendation: Take a short rest.\"\n",
    "        return \"Soldier's health is stable.\"\n",
    "    else:\n",
    "        return \"Recommendation: Soldier should rest and rehydrate.\""
   ]
  },
  {
   "cell_type": "code",
   "execution_count": 71,
   "metadata": {},
   "outputs": [
    {
     "name": "stdout",
     "output_type": "stream",
     "text": [
      "Alert: Soldier needs immediate medical attention!\n"
     ]
    }
   ],
   "source": [
    "# Example health recommendation\n",
    "sample_soldier_health = {\n",
    "    'heart_rate': 110,\n",
    "    'temperature': 39,\n",
    "    'oxygen_level': 91,\n",
    "    'stress_level': 8,\n",
    "    'hydration_status': 'Low',\n",
    "    'activity_level': 'High'\n",
    "}\n",
    "print(health_recommendation(**sample_soldier_health))"
   ]
  }
 ],
 "metadata": {
  "kernelspec": {
   "display_name": "Python 3",
   "language": "python",
   "name": "python3"
  },
  "language_info": {
   "codemirror_mode": {
    "name": "ipython",
    "version": 3
   },
   "file_extension": ".py",
   "mimetype": "text/x-python",
   "name": "python",
   "nbconvert_exporter": "python",
   "pygments_lexer": "ipython3",
   "version": "3.12.3"
  }
 },
 "nbformat": 4,
 "nbformat_minor": 2
}
